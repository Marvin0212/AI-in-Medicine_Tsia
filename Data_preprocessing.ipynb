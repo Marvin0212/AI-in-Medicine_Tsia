{
  "nbformat": 4,
  "nbformat_minor": 0,
  "metadata": {
    "colab": {
      "provenance": []
    },
    "kernelspec": {
      "name": "python3",
      "display_name": "Python 3"
    }
  },
  "cells": [
    {
      "cell_type": "markdown",
      "metadata": {
        "id": "282kJTl05oyP"
      },
      "source": [
        "Import der benötigten Module. Das Modul \"ecgdetectors\" wird zuerst heruntergeladen und installiert."
      ]
    },
    {
      "cell_type": "code",
      "metadata": {
        "id": "DXBKNiHRpgrI"
      },
      "source": [
        "from google.colab import files\n",
        "import csv\n",
        "import scipy.io as sio\n",
        "import matplotlib.pyplot as plt\n",
        "import numpy as np\n",
        "import sklearn\n",
        "!pip install py-ecg-detectors\n",
        "from ecgdetectors import Detectors\n",
        "from sklearn.model_selection import train_test_split\n",
        "from keras.utils import np_utils\n",
        "\n",
        "nb_classes = 2"
      ],
      "execution_count": null,
      "outputs": []
    },
    {
      "cell_type": "markdown",
      "metadata": {
        "id": "TKnd6OTz8El7"
      },
      "source": [
        "Upload-Dialog, um die EKG-Daten in die virtuelle Maschine zu laden und zu entpacken (es erfolgt keine Prüfung, ob die richtige Datei hochgeladen wurde)"
      ]
    },
    {
      "cell_type": "code",
      "metadata": {
        "id": "KB3LIxh3qR5y"
      },
      "source": [
        "uploaded = files.upload()\n",
        "!unzip training.zip"
      ],
      "execution_count": null,
      "outputs": []
    },
    {
      "cell_type": "markdown",
      "metadata": {
        "id": "7bT9C5tjIX-w"
      },
      "source": [
        "Alternative: direkter Download aus Google Drive (deutlich schneller)"
      ]
    },
    {
      "cell_type": "code",
      "metadata": {
        "id": "UCGYV2hWHuZv",
        "colab": {
          "base_uri": "https://localhost:8080/"
        },
        "outputId": "10e82864-6b4d-4a0f-fb28-0852708a592f"
      },
      "source": [
        "from google.colab import drive\n",
        "drive.mount('/content/drive')\n",
        "!cp \"/content/drive/My Drive/Wettbewerb_KI/training.zip\" .\n",
        "!unzip training.zip"
      ],
      "execution_count": 3,
      "outputs": [
        {
          "output_type": "stream",
          "name": "stdout",
          "text": [
            "Mounted at /content/drive\n",
            "cp: cannot stat '/content/drive/My Drive/Wettbewerb_KI/training.zip': No such file or directory\n",
            "unzip:  cannot find or open training.zip, training.zip.zip or training.zip.ZIP.\n"
          ]
        }
      ]
    },
    {
      "cell_type": "code",
      "source": [
        "sdnn_normal = np.array([])                                # Initialisierung der Feature-Arrays\n",
        "sdnn_afib = np.array([])\n",
        "ecg_class = np.array([])\n",
        "with open('training/REFERENCE.csv') as csv_file:      # Einlesen der Liste mit Dateinamen und Zuordnung\n",
        "    csv_reader = csv.reader(csv_file, delimiter=',')\n",
        "    normal_line_count = 0\n",
        "    afib_line_count = 0\n",
        "    for row in csv_reader:\n",
        "      data = sio.loadmat('training/'+row[0]+'.mat')   # Import der EKG-Dateien\n",
        "      ecg_lead = data['val'][0]\n",
        "      if ecg_lead.size>=9000:                                   #discard data smaller than 9000 and trim data to same size\n",
        "        if row[1] != 'A':                                       # includes N,O,~\n",
        "          if normal_line_count != 0:\n",
        "            sdnn_normal = np.vstack((sdnn_normal,ecg_lead[0:9000]))        \n",
        "          else:\n",
        "            sdnn_normal=ecg_lead[0:9000]\n",
        "          normal_line_count = normal_line_count + 1    \n",
        "        if row[1]=='A':                                         # Zuordnung zu \"Vorhofflimmern\"          \n",
        "          if afib_line_count != 0:\n",
        "            sdnn_afib = np.vstack((sdnn_afib,ecg_lead[0:9000]))        \n",
        "          else:\n",
        "            sdnn_afib=ecg_lead[0:9000]                                \n",
        "          afib_line_count = afib_line_count + 1\n",
        "\n",
        "    if (normal_line_count+ afib_line_count % 100)==0:\n",
        "        print(str(normal_line_count+ afib_line_count) + \"\\t Dateien wurden verarbeitet.\")\n"
      ],
      "metadata": {
        "id": "4_AggmOBoZXU"
      },
      "execution_count": null,
      "outputs": []
    },
    {
      "cell_type": "code",
      "source": [
        "X=np.concatenate((sdnn_normal, sdnn_afib)) #combine Normal and Afib Data\n",
        "\n",
        "normal_class=np.zeros(sdnn_normal.shape[0])       #combine class labels\n",
        "normal_class.fill(0)\n",
        "afib_class=np.zeros(sdnn_afib.shape[0])\n",
        "afib_class.fill(1)\n",
        "y=np.concatenate((normal_class, afib_class))\n",
        "\n",
        "X_train, X_test, y_train, y_test = train_test_split(X, y, test_size=0.2, random_state=4)#split data for testing and training\n",
        "\n",
        "X_train = X_train.astype('float32')\n",
        "X_test = X_test.astype('float32')\n",
        "Y_train = np_utils.to_categorical(y_train, nb_classes)\n",
        "Y_test = np_utils.to_categorical(y_test, nb_classes)"
      ],
      "metadata": {
        "id": "OyGneuzUS4fk"
      },
      "execution_count": null,
      "outputs": []
    }
  ]
}